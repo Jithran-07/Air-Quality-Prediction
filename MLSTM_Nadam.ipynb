{
  "nbformat": 4,
  "nbformat_minor": 0,
  "metadata": {
    "colab": {
      "provenance": [],
      "authorship_tag": "ABX9TyMJkVKmgHkWVuVHvcfF3n3H",
      "include_colab_link": true
    },
    "kernelspec": {
      "name": "python3",
      "display_name": "Python 3"
    },
    "language_info": {
      "name": "python"
    }
  },
  "cells": [
    {
      "cell_type": "markdown",
      "metadata": {
        "id": "view-in-github",
        "colab_type": "text"
      },
      "source": [
        "<a href=\"https://colab.research.google.com/github/Jithran-07/Air-Quality-Prediction/blob/main/MLSTM_Nadam.ipynb\" target=\"_parent\"><img src=\"https://colab.research.google.com/assets/colab-badge.svg\" alt=\"Open In Colab\"/></a>"
      ]
    },
    {
      "cell_type": "code",
      "source": [
        "import pandas as pd\n",
        "from sklearn.preprocessing import LabelEncoder\n",
        "\n",
        "# Load the dataset from a CSV file\n",
        "input_file = '/content/Air Quality Prediction Indian Dataset.csv'  # Replace with the path to your CSV file\n",
        "output_file = '/content/labeled.csv'  # Replace with the desired output path\n",
        "\n",
        "# Read the CSV file into a Pandas DataFrame\n",
        "data = pd.read_csv(input_file)\n",
        "\n",
        "# Specify the columns to encode\n",
        "columns_to_encode = ['City','AQI_Bucket']  # Replace with the names of the categorical columns\n",
        "\n",
        "# Create a LabelEncoder for each categorical column\n",
        "label_encoders = {}\n",
        "\n",
        "for column in columns_to_encode:\n",
        "    label_encoder = LabelEncoder()\n",
        "    data[column] = label_encoder.fit_transform(data[column])\n",
        "    label_encoders[column] = label_encoder\n",
        "\n",
        "# Save the encoded data to a new CSV file\n",
        "data.to_csv(output_file, index=False)\n",
        "\n",
        "print(\"Label encoding complete. Encoded data saved to\", output_file)\n"
      ],
      "metadata": {
        "colab": {
          "base_uri": "https://localhost:8080/"
        },
        "id": "q0S8zIN3-sRk",
        "outputId": "2cbfb68c-0984-44ab-8746-52d395ff3c57"
      },
      "execution_count": null,
      "outputs": [
        {
          "output_type": "stream",
          "name": "stdout",
          "text": [
            "Label encoding complete. Encoded data saved to /content/labeled.csv\n"
          ]
        }
      ]
    },
    {
      "cell_type": "code",
      "execution_count": null,
      "metadata": {
        "colab": {
          "base_uri": "https://localhost:8080/"
        },
        "id": "AW5HG2tI9lBF",
        "outputId": "dcb48be9-f31b-45b5-dafe-f440a39802cf"
      },
      "outputs": [
        {
          "output_type": "stream",
          "name": "stdout",
          "text": [
            "Normalization complete. Normalized data saved to /content/normalized.csv\n"
          ]
        }
      ],
      "source": [
        "import pandas as pd\n",
        "from sklearn.preprocessing import MinMaxScaler\n",
        "\n",
        "# Load the dataset from a CSV file\n",
        "input_file = '/content/labeled.csv'  # Replace with the path to your CSV file\n",
        "output_file = '/content/normalized.csv'  # Replace with the desired output path\n",
        "\n",
        "# Read the CSV file into a Pandas DataFrame\n",
        "data = pd.read_csv(input_file)\n",
        "\n",
        "# Select numeric columns for normalization (you can customize this based on your dataset)\n",
        "numeric_columns = data.select_dtypes(include=['number']).columns\n",
        "\n",
        "# Create a MinMaxScaler\n",
        "scaler = MinMaxScaler()\n",
        "\n",
        "# Normalize the selected columns\n",
        "data[numeric_columns] = scaler.fit_transform(data[numeric_columns])\n",
        "\n",
        "# Save the normalized data to a new CSV file\n",
        "data.to_csv(output_file, index=False)\n",
        "\n",
        "print(\"Normalization complete. Normalized data saved to\", output_file)\n"
      ]
    },
    {
      "cell_type": "code",
      "source": [
        "import pandas as pd\n",
        "\n",
        "\n",
        "# Load the CSV file into a pandas DataFrame\n",
        "df = pd.read_csv('/content/normalized.csv')\n",
        "\n",
        "df.drop(df.columns[1], axis=1, inplace=True)\n",
        "X = df.iloc[:, :-1]   # data without class label\n",
        "Y = df.iloc[:, 14].values     # class label values only\n",
        "\n",
        "print(\"\\n=================================================\\nDataset after drop one column\\n=================================================\\n\",df)\n",
        "\n"
      ],
      "metadata": {
        "id": "Sj0W4WFC-j4U",
        "colab": {
          "base_uri": "https://localhost:8080/"
        },
        "outputId": "4d312615-fdb1-497e-d884-5cebf51373b6"
      },
      "execution_count": null,
      "outputs": [
        {
          "output_type": "stream",
          "name": "stdout",
          "text": [
            "\n",
            "=================================================\n",
            "Dataset after drop one column\n",
            "=================================================\n",
            "       City     PM2.5      PM10        NO       NO2       NOx       NH3  \\\n",
            "0      0.0  0.124610  0.147894  0.007486  0.145214  0.053189  0.063633   \n",
            "1      0.0  0.119776  0.153673  0.006353  0.184500  0.065559  0.060992   \n",
            "2      0.0  0.136160  0.161606  0.039945  0.219143  0.096463  0.076780   \n",
            "3      0.0  0.097585  0.122028  0.014531  0.199286  0.075205  0.067835   \n",
            "4      0.0  0.110595  0.135652  0.031327  0.164500  0.073330  0.072818   \n",
            "...    ...       ...       ...       ...       ...       ...       ...   \n",
            "6231   1.0  0.008836  0.031011  0.035604  0.165000  0.076009  0.066214   \n",
            "6232   1.0  0.020433  0.054671  0.046738  0.177786  0.086504  0.074139   \n",
            "6233   1.0  0.035123  0.084009  0.019941  0.184929  0.073062  0.071257   \n",
            "6234   1.0  0.032816  0.073415  0.020130  0.209714  0.081100  0.063573   \n",
            "6235   1.0  0.022976  0.053442  0.023904  0.207786  0.083199  0.059491   \n",
            "\n",
            "            CO       SO2        O3   Benzene   Toluene    Xylene       AQI  \\\n",
            "0     0.007394  0.208525  0.780819  0.003104  0.063107  0.000479  0.246177   \n",
            "1     0.008626  0.376722  0.720799  0.003414  0.077184  0.000639  0.266055   \n",
            "2     0.006778  0.471871  0.685782  0.004500  0.074078  0.000959  0.267584   \n",
            "3     0.005545  0.262486  0.849795  0.002638  0.048738  0.000559  0.252294   \n",
            "4     0.009858  0.141217  0.672907  0.003259  0.045728  0.000639  0.229358   \n",
            "...        ...       ...       ...       ...       ...       ...       ...   \n",
            "6231  0.028343  0.088404  0.114131  0.022502  0.052136  0.011583  0.036697   \n",
            "6232  0.028959  0.112514  0.135278  0.034761  0.117184  0.005832  0.027523   \n",
            "6233  0.032039  0.172359  0.177821  0.011484  0.021456  0.003036  0.071865   \n",
            "6234  0.029575  0.110649  0.182921  0.000155  0.000097  0.000000  0.068807   \n",
            "6235  0.032039  0.131028  0.166376  0.000000  0.000000  0.000000  0.047401   \n",
            "\n",
            "      AQI_Bucket  \n",
            "0            0.2  \n",
            "1            0.2  \n",
            "2            0.2  \n",
            "3            0.2  \n",
            "4            0.2  \n",
            "...          ...  \n",
            "6231         0.0  \n",
            "6232         0.0  \n",
            "6233         0.6  \n",
            "6234         0.6  \n",
            "6235         0.6  \n",
            "\n",
            "[6236 rows x 15 columns]\n"
          ]
        }
      ]
    },
    {
      "cell_type": "code",
      "source": [
        "from sklearn.model_selection import train_test_split\n",
        "X_train, X_test, Y_train, Y_test = train_test_split(X, Y, test_size = 0.25, shuffle=False)\n",
        "\n",
        "print(\"\\n========================================\\nTraining Dataset class label values only\\n========================================\\n\",X_train)\n",
        "print(\"\\n========================================\\nTraining Dataset class label values only\\n========================================\\n\",Y_train)\n",
        "print(\"\\n===================================\\nTesting Dataset without class label\\n===================================\\n\",X_test)\n",
        "print(\"\\n=============================================\\nActual class label values for Testing Dataset\\n=============================================\\n\",Y_test)"
      ],
      "metadata": {
        "colab": {
          "base_uri": "https://localhost:8080/"
        },
        "id": "QstMhhSWCr94",
        "outputId": "d9f8451c-5e35-435c-ed75-a336fefc3b6c"
      },
      "execution_count": null,
      "outputs": [
        {
          "output_type": "stream",
          "name": "stdout",
          "text": [
            "\n",
            "========================================\n",
            "Training Dataset class label values only\n",
            "========================================\n",
            "       City     PM2.5      PM10        NO       NO2       NOx       NH3  \\\n",
            "0     0.00  0.124610  0.147894  0.007486  0.145214  0.053189  0.063633   \n",
            "1     0.00  0.119776  0.153673  0.006353  0.184500  0.065559  0.060992   \n",
            "2     0.00  0.136160  0.161606  0.039945  0.219143  0.096463  0.076780   \n",
            "3     0.00  0.097585  0.122028  0.014531  0.199286  0.075205  0.067835   \n",
            "4     0.00  0.110595  0.135652  0.031327  0.164500  0.073330  0.072818   \n",
            "...    ...       ...       ...       ...       ...       ...       ...   \n",
            "4672  0.75  0.102261  0.163266  0.095867  0.278786  0.242408  0.110037   \n",
            "4673  0.75  0.109716  0.177650  0.288922  0.343214  0.396258  0.098871   \n",
            "4674  0.75  0.182583  0.270898  0.213625  0.404857  0.393891  0.099352   \n",
            "4675  0.75  0.218475  0.300362  0.098132  0.371143  0.302831  0.107756   \n",
            "4676  0.75  0.135077  0.218457  0.155438  0.401071  0.361826  0.114059   \n",
            "\n",
            "            CO       SO2        O3   Benzene   Toluene    Xylene       AQI  \n",
            "0     0.007394  0.208525  0.780819  0.003104  0.063107  0.000479  0.246177  \n",
            "1     0.008626  0.376722  0.720799  0.003414  0.077184  0.000639  0.266055  \n",
            "2     0.006778  0.471871  0.685782  0.004500  0.074078  0.000959  0.267584  \n",
            "3     0.005545  0.262486  0.849795  0.002638  0.048738  0.000559  0.252294  \n",
            "4     0.009858  0.141217  0.672907  0.003259  0.045728  0.000639  0.229358  \n",
            "...        ...       ...       ...       ...       ...       ...       ...  \n",
            "4672  0.048059  0.113662  0.207426  0.312849  0.335534  0.019811  0.178899  \n",
            "4673  0.067160  0.111510  0.209043  0.363749  0.332427  0.026442  0.168196  \n",
            "4674  0.085644  0.154707  0.256126  0.320453  0.303592  0.035149  0.282875  \n",
            "4675  0.080099  0.127440  0.298980  0.138579  0.138641  0.021729  0.417431  \n",
            "4676  0.058534  0.151119  0.247916  0.402545  0.368350  0.030756  0.325688  \n",
            "\n",
            "[4677 rows x 14 columns]\n",
            "\n",
            "========================================\n",
            "Training Dataset class label values only\n",
            "========================================\n",
            " [0.2 0.2 0.2 ... 0.4 0.4 0.4]\n",
            "\n",
            "===================================\n",
            "Testing Dataset without class label\n",
            "===================================\n",
            "       City     PM2.5      PM10        NO       NO2       NOx       NH3  \\\n",
            "4677  0.75  0.076194  0.121813  0.060766  0.227786  0.183369  0.115920   \n",
            "4678  0.75  0.015568  0.033393  0.045480  0.112357  0.097222  0.100732   \n",
            "4679  0.75  0.027307  0.044786  0.039504  0.139929  0.114059  0.081042   \n",
            "4680  0.75  0.046674  0.093007  0.196263  0.210357  0.263532  0.073598   \n",
            "4681  0.75  0.127591  0.220725  0.588979  0.415071  0.659521  0.161604   \n",
            "...    ...       ...       ...       ...       ...       ...       ...   \n",
            "6231  1.00  0.008836  0.031011  0.035604  0.165000  0.076009  0.066214   \n",
            "6232  1.00  0.020433  0.054671  0.046738  0.177786  0.086504  0.074139   \n",
            "6233  1.00  0.035123  0.084009  0.019941  0.184929  0.073062  0.071257   \n",
            "6234  1.00  0.032816  0.073415  0.020130  0.209714  0.081100  0.063573   \n",
            "6235  1.00  0.022976  0.053442  0.023904  0.207786  0.083199  0.059491   \n",
            "\n",
            "            CO       SO2        O3   Benzene   Toluene    Xylene       AQI  \n",
            "4677  0.036352  0.077784  0.175519  0.307418  0.277087  0.014859  0.207951  \n",
            "4678  0.026494  0.065299  0.177323  0.268777  0.249417  0.008148  0.062691  \n",
            "4679  0.031423  0.076349  0.222789  0.180944  0.166214  0.012063  0.045872  \n",
            "4680  0.058534  0.113662  0.124331  0.150062  0.167961  0.022528  0.071865  \n",
            "4681  0.105360  0.155281  0.190571  0.438858  0.422136  0.069420  0.229358  \n",
            "...        ...       ...       ...       ...       ...       ...       ...  \n",
            "6231  0.028343  0.088404  0.114131  0.022502  0.052136  0.011583  0.036697  \n",
            "6232  0.028959  0.112514  0.135278  0.034761  0.117184  0.005832  0.027523  \n",
            "6233  0.032039  0.172359  0.177821  0.011484  0.021456  0.003036  0.071865  \n",
            "6234  0.029575  0.110649  0.182921  0.000155  0.000097  0.000000  0.068807  \n",
            "6235  0.032039  0.131028  0.166376  0.000000  0.000000  0.000000  0.047401  \n",
            "\n",
            "[1559 rows x 14 columns]\n",
            "\n",
            "=============================================\n",
            "Actual class label values for Testing Dataset\n",
            "=============================================\n",
            " [0.2 0.6 0.6 ... 0.6 0.6 0.6]\n"
          ]
        }
      ]
    },
    {
      "cell_type": "code",
      "source": [
        "import tensorflow as tf\n",
        "from tensorflow.keras.layers import Layer\n",
        "\n",
        "class MLSTMCell(Layer):\n",
        "    def __init__(self, units):\n",
        "        super(MLSTMCell, self).__init__()\n",
        "        self.units = units\n",
        "        self.state_size = (units, units)  # Tuple representing (hidden state size, cell state size)\n",
        "\n",
        "    def build(self, input_shape):\n",
        "        input_dim = input_shape[-1]\n",
        "        self.kernel = self.add_weight(\"kernel\", (input_dim, self.units * 2))\n",
        "        self.recurrent_kernel = self.add_weight(\"recurrent_kernel\", (self.units, self.units * 2))\n",
        "\n",
        "    def call(self, inputs, states):\n",
        "        h_tm1, c_tm1 = states  # Previous hidden state and cell state\n",
        "\n",
        "        # Multiplicative interaction\n",
        "        z = tf.matmul(inputs, self.kernel) * tf.matmul(h_tm1, self.recurrent_kernel)\n",
        "\n",
        "        # Split z into two parts: update gate and new candidate values\n",
        "        z1, z2 = tf.split(z, num_or_size_splits=2, axis=-1)\n",
        "        update_gate = tf.sigmoid(z1)\n",
        "        candidate = tf.tanh(z2)\n",
        "\n",
        "        # Update the cell state and hidden state\n",
        "        c = (1 - update_gate) * c_tm1 + update_gate * candidate\n",
        "        h = tf.tanh(c)\n",
        "\n",
        "        return h, [h, c]\n"
      ],
      "metadata": {
        "id": "7kuqNcpyM5KQ"
      },
      "execution_count": null,
      "outputs": []
    },
    {
      "cell_type": "code",
      "source": [
        "# Define the MLSTM model\n",
        "from tensorflow.keras.layers import Reshape\n",
        "from tensorflow.keras.layers import Dense\n",
        "import tensorflow as tf\n",
        "from tensorflow.keras import Sequential\n",
        "\n",
        "model = Sequential()\n",
        "\n",
        "# Reshape the input data for the MLSTM layer\n",
        "model.add(Reshape((1, X_train.shape[1]), input_shape=(X_train.shape[1],)))\n",
        "\n",
        "# Add an MLSTM layer\n",
        "mlstm_units = 64\n",
        "model.add(tf.keras.layers.RNN(MLSTMCell(mlstm_units), return_sequences=False))\n",
        "\n",
        "# Add a dense output layer (adjust units and activation function as needed)\n",
        "model.add(Dense(1, activation='linear'))\n",
        "\n",
        "# Compile the model\n",
        "model.compile(optimizer='nadam', loss='mean_squared_error')\n"
      ],
      "metadata": {
        "id": "S1-_H_r2Ni35"
      },
      "execution_count": null,
      "outputs": []
    },
    {
      "cell_type": "code",
      "source": [
        "# Train the model\n",
        "epochs = 50\n",
        "batch_size = 32\n",
        "history=model.fit(X_train, Y_train, epochs=epochs, batch_size=batch_size, validation_split=0.2)\n"
      ],
      "metadata": {
        "colab": {
          "base_uri": "https://localhost:8080/"
        },
        "id": "QC84ByIrNVUa",
        "outputId": "8bce2dcc-3ed8-46f8-b1ba-a50a8aff0901"
      },
      "execution_count": null,
      "outputs": [
        {
          "output_type": "stream",
          "name": "stdout",
          "text": [
            "Epoch 1/50\n",
            "117/117 [==============================] - 3s 9ms/step - loss: 0.2220 - val_loss: 0.1261\n",
            "Epoch 2/50\n",
            "117/117 [==============================] - 1s 5ms/step - loss: 0.1550 - val_loss: 0.0869\n",
            "Epoch 3/50\n",
            "117/117 [==============================] - 0s 4ms/step - loss: 0.1150 - val_loss: 0.0677\n",
            "Epoch 4/50\n",
            "117/117 [==============================] - 0s 3ms/step - loss: 0.0934 - val_loss: 0.0607\n",
            "Epoch 5/50\n",
            "117/117 [==============================] - 0s 3ms/step - loss: 0.0830 - val_loss: 0.0596\n",
            "Epoch 6/50\n",
            "117/117 [==============================] - 0s 3ms/step - loss: 0.0787 - val_loss: 0.0607\n",
            "Epoch 7/50\n",
            "117/117 [==============================] - 0s 3ms/step - loss: 0.0771 - val_loss: 0.0620\n",
            "Epoch 8/50\n",
            "117/117 [==============================] - 0s 3ms/step - loss: 0.0765 - val_loss: 0.0632\n",
            "Epoch 9/50\n",
            "117/117 [==============================] - 0s 3ms/step - loss: 0.0764 - val_loss: 0.0636\n",
            "Epoch 10/50\n",
            "117/117 [==============================] - 0s 3ms/step - loss: 0.0764 - val_loss: 0.0640\n",
            "Epoch 11/50\n",
            "117/117 [==============================] - 0s 3ms/step - loss: 0.0764 - val_loss: 0.0642\n",
            "Epoch 12/50\n",
            "117/117 [==============================] - 0s 3ms/step - loss: 0.0764 - val_loss: 0.0642\n",
            "Epoch 13/50\n",
            "117/117 [==============================] - 0s 3ms/step - loss: 0.0764 - val_loss: 0.0641\n",
            "Epoch 14/50\n",
            "117/117 [==============================] - 0s 3ms/step - loss: 0.0764 - val_loss: 0.0642\n",
            "Epoch 15/50\n",
            "117/117 [==============================] - 0s 3ms/step - loss: 0.0764 - val_loss: 0.0640\n",
            "Epoch 16/50\n",
            "117/117 [==============================] - 0s 3ms/step - loss: 0.0764 - val_loss: 0.0641\n",
            "Epoch 17/50\n",
            "117/117 [==============================] - 0s 3ms/step - loss: 0.0764 - val_loss: 0.0642\n",
            "Epoch 18/50\n",
            "117/117 [==============================] - 0s 3ms/step - loss: 0.0764 - val_loss: 0.0643\n",
            "Epoch 19/50\n",
            "117/117 [==============================] - 0s 3ms/step - loss: 0.0764 - val_loss: 0.0642\n",
            "Epoch 20/50\n",
            "117/117 [==============================] - 0s 3ms/step - loss: 0.0764 - val_loss: 0.0640\n",
            "Epoch 21/50\n",
            "117/117 [==============================] - 0s 4ms/step - loss: 0.0764 - val_loss: 0.0641\n",
            "Epoch 22/50\n",
            "117/117 [==============================] - 0s 3ms/step - loss: 0.0764 - val_loss: 0.0642\n",
            "Epoch 23/50\n",
            "117/117 [==============================] - 0s 3ms/step - loss: 0.0764 - val_loss: 0.0640\n",
            "Epoch 24/50\n",
            "117/117 [==============================] - 0s 3ms/step - loss: 0.0764 - val_loss: 0.0639\n",
            "Epoch 25/50\n",
            "117/117 [==============================] - 0s 3ms/step - loss: 0.0764 - val_loss: 0.0643\n",
            "Epoch 26/50\n",
            "117/117 [==============================] - 0s 4ms/step - loss: 0.0764 - val_loss: 0.0641\n",
            "Epoch 27/50\n",
            "117/117 [==============================] - 0s 3ms/step - loss: 0.0764 - val_loss: 0.0639\n",
            "Epoch 28/50\n",
            "117/117 [==============================] - 0s 3ms/step - loss: 0.0764 - val_loss: 0.0644\n",
            "Epoch 29/50\n",
            "117/117 [==============================] - 1s 5ms/step - loss: 0.0764 - val_loss: 0.0642\n",
            "Epoch 30/50\n",
            "117/117 [==============================] - 1s 5ms/step - loss: 0.0764 - val_loss: 0.0644\n",
            "Epoch 31/50\n",
            "117/117 [==============================] - 1s 5ms/step - loss: 0.0764 - val_loss: 0.0641\n",
            "Epoch 32/50\n",
            "117/117 [==============================] - 1s 6ms/step - loss: 0.0764 - val_loss: 0.0642\n",
            "Epoch 33/50\n",
            "117/117 [==============================] - 1s 4ms/step - loss: 0.0764 - val_loss: 0.0641\n",
            "Epoch 34/50\n",
            "117/117 [==============================] - 0s 3ms/step - loss: 0.0764 - val_loss: 0.0640\n",
            "Epoch 35/50\n",
            "117/117 [==============================] - 0s 3ms/step - loss: 0.0764 - val_loss: 0.0645\n",
            "Epoch 36/50\n",
            "117/117 [==============================] - 0s 3ms/step - loss: 0.0764 - val_loss: 0.0645\n",
            "Epoch 37/50\n",
            "117/117 [==============================] - 0s 3ms/step - loss: 0.0764 - val_loss: 0.0646\n",
            "Epoch 38/50\n",
            "117/117 [==============================] - 0s 3ms/step - loss: 0.0764 - val_loss: 0.0640\n",
            "Epoch 39/50\n",
            "117/117 [==============================] - 0s 3ms/step - loss: 0.0764 - val_loss: 0.0643\n",
            "Epoch 40/50\n",
            "117/117 [==============================] - 0s 3ms/step - loss: 0.0764 - val_loss: 0.0638\n",
            "Epoch 41/50\n",
            "117/117 [==============================] - 0s 4ms/step - loss: 0.0764 - val_loss: 0.0638\n",
            "Epoch 42/50\n",
            "117/117 [==============================] - 0s 3ms/step - loss: 0.0764 - val_loss: 0.0645\n",
            "Epoch 43/50\n",
            "117/117 [==============================] - 0s 3ms/step - loss: 0.0764 - val_loss: 0.0643\n",
            "Epoch 44/50\n",
            "117/117 [==============================] - 0s 3ms/step - loss: 0.0764 - val_loss: 0.0649\n",
            "Epoch 45/50\n",
            "117/117 [==============================] - 0s 3ms/step - loss: 0.0764 - val_loss: 0.0638\n",
            "Epoch 46/50\n",
            "117/117 [==============================] - 0s 3ms/step - loss: 0.0764 - val_loss: 0.0640\n",
            "Epoch 47/50\n",
            "117/117 [==============================] - 0s 3ms/step - loss: 0.0764 - val_loss: 0.0641\n",
            "Epoch 48/50\n",
            "117/117 [==============================] - 0s 3ms/step - loss: 0.0764 - val_loss: 0.0646\n",
            "Epoch 49/50\n",
            "117/117 [==============================] - 0s 3ms/step - loss: 0.0764 - val_loss: 0.0647\n",
            "Epoch 50/50\n",
            "117/117 [==============================] - 0s 3ms/step - loss: 0.0764 - val_loss: 0.0644\n"
          ]
        }
      ]
    },
    {
      "cell_type": "code",
      "source": [
        "import matplotlib.pyplot as plt\n",
        "\n",
        "# Extract loss and validation loss from the training history\n",
        "loss = history.history['loss']\n",
        "val_loss = history.history['val_loss']\n",
        "\n",
        "# Create the plot\n",
        "plt.figure(figsize=(10, 5))\n",
        "plt.plot(range(1, epochs + 1), loss, label='Training Loss')\n",
        "plt.plot(range(1, epochs + 1), val_loss, label='Validation Loss')\n",
        "\n",
        "# Add labels and a legend\n",
        "plt.xlabel('Epoch')\n",
        "plt.ylabel('Loss')\n",
        "plt.title('Training and Validation Loss Over Epochs')\n",
        "plt.legend()\n",
        "\n",
        "# Display the plot\n",
        "\n",
        "plt.show()\n"
      ],
      "metadata": {
        "colab": {
          "base_uri": "https://localhost:8080/",
          "height": 487
        },
        "id": "RWo9sjizroVX",
        "outputId": "b25f7db6-d4ae-4add-9671-ee4566ab6809"
      },
      "execution_count": null,
      "outputs": [
        {
          "output_type": "display_data",
          "data": {
            "text/plain": [
              "<Figure size 1000x500 with 1 Axes>"
            ],
            "image/png": "[encoded data removed]"
          },
          "metadata": {}
        }
      ]
    },
    {
      "cell_type": "code",
      "source": [
        "y_pred = model.predict(X_test)\n",
        "print(y_pred)"
      ],
      "metadata": {
        "colab": {
          "base_uri": "https://localhost:8080/"
        },
        "id": "Jj5yyUAUPGvb",
        "outputId": "1cc67907-460b-4ede-ccfb-2ca730b95055"
      },
      "execution_count": null,
      "outputs": [
        {
          "output_type": "stream",
          "name": "stdout",
          "text": [
            "49/49 [==============================] - 0s 2ms/step\n",
            "[[0.4320959]\n",
            " [0.4320959]\n",
            " [0.4320959]\n",
            " ...\n",
            " [0.4320959]\n",
            " [0.4320959]\n",
            " [0.4320959]]\n"
          ]
        }
      ]
    },
    {
      "cell_type": "code",
      "source": [
        "import numpy as np\n",
        "from sklearn.metrics import mean_absolute_error\n",
        "from sklearn.metrics import mean_squared_error\n",
        "mae = mean_absolute_error(Y_test, y_pred)\n",
        "print(f'Mean Absolute Error: {mae:.2f}')\n",
        "rmse = np.sqrt(mean_squared_error(Y_test, y_pred))\n",
        "print(f'Root Mean Squared Error (RMSE): {rmse:.2f}')"
      ],
      "metadata": {
        "colab": {
          "base_uri": "https://localhost:8080/"
        },
        "id": "kKGYbAkYPWhl",
        "outputId": "e711b334-9427-4a9a-d1c4-dce137f30690"
      },
      "execution_count": null,
      "outputs": [
        {
          "output_type": "stream",
          "name": "stdout",
          "text": [
            "Mean Absolute Error: 0.21\n",
            "Root Mean Squared Error (RMSE): 0.23\n"
          ]
        }
      ]
    }
  ]
}